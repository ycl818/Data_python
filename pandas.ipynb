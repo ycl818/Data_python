{
  "nbformat": 4,
  "nbformat_minor": 0,
  "metadata": {
    "colab": {
      "name": "pandas.ipynb",
      "provenance": [],
      "authorship_tag": "ABX9TyOTSXO6lzJmnVQ1AjcnwaEG",
      "include_colab_link": true
    },
    "kernelspec": {
      "name": "python3",
      "display_name": "Python 3"
    }
  },
  "cells": [
    {
      "cell_type": "markdown",
      "metadata": {
        "id": "view-in-github",
        "colab_type": "text"
      },
      "source": [
        "<a href=\"https://colab.research.google.com/github/ycl818/Data_python/blob/main/pandas.ipynb\" target=\"_parent\"><img src=\"https://colab.research.google.com/assets/colab-badge.svg\" alt=\"Open In Colab\"/></a>"
      ]
    },
    {
      "cell_type": "code",
      "metadata": {
        "id": "GMItxVUcdRA1"
      },
      "source": [
        "    import pandas as pd                                  "
      ],
      "execution_count": 1,
      "outputs": []
    },
    {
      "cell_type": "code",
      "metadata": {
        "colab": {
          "base_uri": "https://localhost:8080/"
        },
        "id": "vJO6iapUdmvV",
        "outputId": "a88bb4e4-b3ea-4817-9857-e6fc82f879c6"
      },
      "source": [
        "print(pd.__version__)\n",
        "print(pd.__file__)"
      ],
      "execution_count": 3,
      "outputs": [
        {
          "output_type": "stream",
          "text": [
            "1.1.4\n",
            "/usr/local/lib/python3.6/dist-packages/pandas/__init__.py\n"
          ],
          "name": "stdout"
        }
      ]
    },
    {
      "cell_type": "markdown",
      "metadata": {
        "id": "Dak3LRuxF6Fl"
      },
      "source": [
        "#John Hopkins COVID-19 data\n"
      ]
    },
    {
      "cell_type": "code",
      "metadata": {
        "colab": {
          "base_uri": "https://localhost:8080/"
        },
        "id": "ywceyRW5hqgH",
        "outputId": "475f6ff1-54d3-4927-ed5f-d591e4b5750f"
      },
      "source": [
        "from datetime import date\n",
        "from datetime import timedelta\n",
        "\n",
        "today = date.today()\n",
        "print(today)\n",
        "day_delta = timedelta(days=-2)\n",
        "data_date = today + day_delta\n",
        "print(data_date)\n",
        "print(type(data_date))\n",
        "data_date_str = date.strftime(data_date, '%m-%d-%Y')\n",
        "print(data_date_str)"
      ],
      "execution_count": 5,
      "outputs": [
        {
          "output_type": "stream",
          "text": [
            "2020-11-29\n",
            "2020-11-27\n",
            "<class 'datetime.date'>\n",
            "11-27-2020\n"
          ],
          "name": "stdout"
        }
      ]
    },
    {
      "cell_type": "code",
      "metadata": {
        "colab": {
          "base_uri": "https://localhost:8080/"
        },
        "id": "ZuzlpuyYikeV",
        "outputId": "9167a71d-4c8b-4b0f-af7f-e24585f58c05"
      },
      "source": [
        "daily_report_url = \"https://raw.githubusercontent.com/CSSEGISandData/COVID-19/master/csse_covid_19_data/csse_covid_19_daily_reports/{}.csv\"\n",
        "daily_report_url = daily_report_url.format(data_date_str)\n",
        "print(daily_report_url)\n",
        "\n"
      ],
      "execution_count": 6,
      "outputs": [
        {
          "output_type": "stream",
          "text": [
            "https://raw.githubusercontent.com/CSSEGISandData/COVID-19/master/csse_covid_19_data/csse_covid_19_daily_reports/11-27-2020.csv\n"
          ],
          "name": "stdout"
        }
      ]
    },
    {
      "cell_type": "code",
      "metadata": {
        "colab": {
          "base_uri": "https://localhost:8080/",
          "height": 316
        },
        "id": "zPIxNQf0jWMf",
        "outputId": "03341573-5d58-494d-cf98-a086e96a7b1a"
      },
      "source": [
        "daily_report = pd.read_csv(daily_report_url)\n",
        "print(type(daily_report))\n",
        "daily_report.head()"
      ],
      "execution_count": 8,
      "outputs": [
        {
          "output_type": "stream",
          "text": [
            "<class 'pandas.core.frame.DataFrame'>\n"
          ],
          "name": "stdout"
        },
        {
          "output_type": "execute_result",
          "data": {
            "text/html": [
              "<div>\n",
              "<style scoped>\n",
              "    .dataframe tbody tr th:only-of-type {\n",
              "        vertical-align: middle;\n",
              "    }\n",
              "\n",
              "    .dataframe tbody tr th {\n",
              "        vertical-align: top;\n",
              "    }\n",
              "\n",
              "    .dataframe thead th {\n",
              "        text-align: right;\n",
              "    }\n",
              "</style>\n",
              "<table border=\"1\" class=\"dataframe\">\n",
              "  <thead>\n",
              "    <tr style=\"text-align: right;\">\n",
              "      <th></th>\n",
              "      <th>FIPS</th>\n",
              "      <th>Admin2</th>\n",
              "      <th>Province_State</th>\n",
              "      <th>Country_Region</th>\n",
              "      <th>Last_Update</th>\n",
              "      <th>Lat</th>\n",
              "      <th>Long_</th>\n",
              "      <th>Confirmed</th>\n",
              "      <th>Deaths</th>\n",
              "      <th>Recovered</th>\n",
              "      <th>Active</th>\n",
              "      <th>Combined_Key</th>\n",
              "      <th>Incident_Rate</th>\n",
              "      <th>Case_Fatality_Ratio</th>\n",
              "    </tr>\n",
              "  </thead>\n",
              "  <tbody>\n",
              "    <tr>\n",
              "      <th>0</th>\n",
              "      <td>NaN</td>\n",
              "      <td>NaN</td>\n",
              "      <td>NaN</td>\n",
              "      <td>Afghanistan</td>\n",
              "      <td>2020-11-28 05:25:50</td>\n",
              "      <td>33.93911</td>\n",
              "      <td>67.709953</td>\n",
              "      <td>45839</td>\n",
              "      <td>1740</td>\n",
              "      <td>36295</td>\n",
              "      <td>7804.0</td>\n",
              "      <td>Afghanistan</td>\n",
              "      <td>117.752257</td>\n",
              "      <td>3.795894</td>\n",
              "    </tr>\n",
              "    <tr>\n",
              "      <th>1</th>\n",
              "      <td>NaN</td>\n",
              "      <td>NaN</td>\n",
              "      <td>NaN</td>\n",
              "      <td>Albania</td>\n",
              "      <td>2020-11-28 05:25:50</td>\n",
              "      <td>41.15330</td>\n",
              "      <td>20.168300</td>\n",
              "      <td>36245</td>\n",
              "      <td>771</td>\n",
              "      <td>17755</td>\n",
              "      <td>17719.0</td>\n",
              "      <td>Albania</td>\n",
              "      <td>1259.469039</td>\n",
              "      <td>2.127190</td>\n",
              "    </tr>\n",
              "    <tr>\n",
              "      <th>2</th>\n",
              "      <td>NaN</td>\n",
              "      <td>NaN</td>\n",
              "      <td>NaN</td>\n",
              "      <td>Algeria</td>\n",
              "      <td>2020-11-28 05:25:50</td>\n",
              "      <td>28.03390</td>\n",
              "      <td>1.659600</td>\n",
              "      <td>80168</td>\n",
              "      <td>2372</td>\n",
              "      <td>51946</td>\n",
              "      <td>25850.0</td>\n",
              "      <td>Algeria</td>\n",
              "      <td>182.818913</td>\n",
              "      <td>2.958787</td>\n",
              "    </tr>\n",
              "    <tr>\n",
              "      <th>3</th>\n",
              "      <td>NaN</td>\n",
              "      <td>NaN</td>\n",
              "      <td>NaN</td>\n",
              "      <td>Andorra</td>\n",
              "      <td>2020-11-28 05:25:50</td>\n",
              "      <td>42.50630</td>\n",
              "      <td>1.521800</td>\n",
              "      <td>6610</td>\n",
              "      <td>76</td>\n",
              "      <td>5710</td>\n",
              "      <td>824.0</td>\n",
              "      <td>Andorra</td>\n",
              "      <td>8554.973144</td>\n",
              "      <td>1.149773</td>\n",
              "    </tr>\n",
              "    <tr>\n",
              "      <th>4</th>\n",
              "      <td>NaN</td>\n",
              "      <td>NaN</td>\n",
              "      <td>NaN</td>\n",
              "      <td>Angola</td>\n",
              "      <td>2020-11-28 05:25:50</td>\n",
              "      <td>-11.20270</td>\n",
              "      <td>17.873900</td>\n",
              "      <td>15008</td>\n",
              "      <td>342</td>\n",
              "      <td>7697</td>\n",
              "      <td>6969.0</td>\n",
              "      <td>Angola</td>\n",
              "      <td>45.663840</td>\n",
              "      <td>2.278785</td>\n",
              "    </tr>\n",
              "  </tbody>\n",
              "</table>\n",
              "</div>"
            ],
            "text/plain": [
              "   FIPS Admin2 Province_State  ... Combined_Key Incident_Rate  Case_Fatality_Ratio\n",
              "0   NaN    NaN            NaN  ...  Afghanistan    117.752257             3.795894\n",
              "1   NaN    NaN            NaN  ...      Albania   1259.469039             2.127190\n",
              "2   NaN    NaN            NaN  ...      Algeria    182.818913             2.958787\n",
              "3   NaN    NaN            NaN  ...      Andorra   8554.973144             1.149773\n",
              "4   NaN    NaN            NaN  ...       Angola     45.663840             2.278785\n",
              "\n",
              "[5 rows x 14 columns]"
            ]
          },
          "metadata": {
            "tags": []
          },
          "execution_count": 8
        }
      ]
    },
    {
      "cell_type": "code",
      "metadata": {
        "colab": {
          "base_uri": "https://localhost:8080/"
        },
        "id": "c5jb1v1jAHjk",
        "outputId": "2e9dd44a-5a59-4f25-8cd7-7ac780d052a3"
      },
      "source": [
        "daily_report.shape"
      ],
      "execution_count": 25,
      "outputs": [
        {
          "output_type": "execute_result",
          "data": {
            "text/plain": [
              "(3976, 14)"
            ]
          },
          "metadata": {
            "tags": []
          },
          "execution_count": 25
        }
      ]
    },
    {
      "cell_type": "code",
      "metadata": {
        "colab": {
          "base_uri": "https://localhost:8080/"
        },
        "id": "DMXuaxueAK3w",
        "outputId": "fdab8111-b9df-4126-89c1-e8b977ba4044"
      },
      "source": [
        "daily_report.dtypes"
      ],
      "execution_count": 26,
      "outputs": [
        {
          "output_type": "execute_result",
          "data": {
            "text/plain": [
              "FIPS                   float64\n",
              "Admin2                  object\n",
              "Province_State          object\n",
              "Country_Region          object\n",
              "Last_Update             object\n",
              "Lat                    float64\n",
              "Long_                  float64\n",
              "Confirmed                int64\n",
              "Deaths                   int64\n",
              "Recovered                int64\n",
              "Active                 float64\n",
              "Combined_Key            object\n",
              "Incident_Rate          float64\n",
              "Case_Fatality_Ratio    float64\n",
              "dtype: object"
            ]
          },
          "metadata": {
            "tags": []
          },
          "execution_count": 26
        }
      ]
    },
    {
      "cell_type": "markdown",
      "metadata": {
        "id": "pbG9DqGeGIU-"
      },
      "source": [
        "#Practice-- pandas has massive functions importing tabular data"
      ]
    },
    {
      "cell_type": "code",
      "metadata": {
        "id": "Z7K891fkr2MA"
      },
      "source": [
        "import pandas as pd\n",
        "fav_movie = pd.read_csv('fav_movie.csv')\n"
      ],
      "execution_count": 18,
      "outputs": []
    },
    {
      "cell_type": "code",
      "metadata": {
        "id": "xuoN07Hpszhy"
      },
      "source": [
        "import sqlite3\n",
        "\n",
        "conn =sqlite3.connect('movie.db')\n",
        "fav_movie.to_sql('fav_movie',conn,if_exists='replace')"
      ],
      "execution_count": 19,
      "outputs": []
    },
    {
      "cell_type": "code",
      "metadata": {
        "colab": {
          "base_uri": "https://localhost:8080/"
        },
        "id": "nwTjDzha-oLv",
        "outputId": "1d394cea-8b14-4f9b-97a4-0f0b1e600c69"
      },
      "source": [
        "request_url =\"https://www.imdb.com/chart/top\"\n",
        "web =pd.read_html(request_url)\n",
        "print(type(web))"
      ],
      "execution_count": 20,
      "outputs": [
        {
          "output_type": "stream",
          "text": [
            "<class 'list'>\n"
          ],
          "name": "stdout"
        }
      ]
    },
    {
      "cell_type": "code",
      "metadata": {
        "colab": {
          "base_uri": "https://localhost:8080/"
        },
        "id": "nciRycz3-3qa",
        "outputId": "529450aa-30f1-4c99-8dc2-1c62967c4e36"
      },
      "source": [
        "print(len(web))"
      ],
      "execution_count": 21,
      "outputs": [
        {
          "output_type": "stream",
          "text": [
            "1\n"
          ],
          "name": "stdout"
        }
      ]
    },
    {
      "cell_type": "code",
      "metadata": {
        "colab": {
          "base_uri": "https://localhost:8080/"
        },
        "id": "Mfqxnfo8-7GO",
        "outputId": "ceb4895e-8d97-41be-8ce6-9a3e05d9da80"
      },
      "source": [
        "print(type(web[0]))"
      ],
      "execution_count": 22,
      "outputs": [
        {
          "output_type": "stream",
          "text": [
            "<class 'pandas.core.frame.DataFrame'>\n"
          ],
          "name": "stdout"
        }
      ]
    },
    {
      "cell_type": "code",
      "metadata": {
        "colab": {
          "base_uri": "https://localhost:8080/",
          "height": 402
        },
        "id": "Oav8CSfH_efm",
        "outputId": "1fbee78b-494c-41bc-a241-6c36477e0ce6"
      },
      "source": [
        "top_rate_movie = web[0]\n",
        "top_rate_movie"
      ],
      "execution_count": 24,
      "outputs": [
        {
          "output_type": "execute_result",
          "data": {
            "text/html": [
              "<div>\n",
              "<style scoped>\n",
              "    .dataframe tbody tr th:only-of-type {\n",
              "        vertical-align: middle;\n",
              "    }\n",
              "\n",
              "    .dataframe tbody tr th {\n",
              "        vertical-align: top;\n",
              "    }\n",
              "\n",
              "    .dataframe thead th {\n",
              "        text-align: right;\n",
              "    }\n",
              "</style>\n",
              "<table border=\"1\" class=\"dataframe\">\n",
              "  <thead>\n",
              "    <tr style=\"text-align: right;\">\n",
              "      <th></th>\n",
              "      <th>Unnamed: 0</th>\n",
              "      <th>Rank &amp; Title</th>\n",
              "      <th>IMDb Rating</th>\n",
              "      <th>Your Rating</th>\n",
              "      <th>Unnamed: 4</th>\n",
              "    </tr>\n",
              "  </thead>\n",
              "  <tbody>\n",
              "    <tr>\n",
              "      <th>0</th>\n",
              "      <td>NaN</td>\n",
              "      <td>1.  The Shawshank Redemption  (1994)</td>\n",
              "      <td>9.2</td>\n",
              "      <td>12345678910 NOT YET RELEASED  Seen</td>\n",
              "      <td>NaN</td>\n",
              "    </tr>\n",
              "    <tr>\n",
              "      <th>1</th>\n",
              "      <td>NaN</td>\n",
              "      <td>2.  The Godfather  (1972)</td>\n",
              "      <td>9.1</td>\n",
              "      <td>12345678910 NOT YET RELEASED  Seen</td>\n",
              "      <td>NaN</td>\n",
              "    </tr>\n",
              "    <tr>\n",
              "      <th>2</th>\n",
              "      <td>NaN</td>\n",
              "      <td>3.  The Godfather: Part II  (1974)</td>\n",
              "      <td>9.0</td>\n",
              "      <td>12345678910 NOT YET RELEASED  Seen</td>\n",
              "      <td>NaN</td>\n",
              "    </tr>\n",
              "    <tr>\n",
              "      <th>3</th>\n",
              "      <td>NaN</td>\n",
              "      <td>4.  The Dark Knight  (2008)</td>\n",
              "      <td>9.0</td>\n",
              "      <td>12345678910 NOT YET RELEASED  Seen</td>\n",
              "      <td>NaN</td>\n",
              "    </tr>\n",
              "    <tr>\n",
              "      <th>4</th>\n",
              "      <td>NaN</td>\n",
              "      <td>5.  12 Angry Men  (1957)</td>\n",
              "      <td>8.9</td>\n",
              "      <td>12345678910 NOT YET RELEASED  Seen</td>\n",
              "      <td>NaN</td>\n",
              "    </tr>\n",
              "    <tr>\n",
              "      <th>...</th>\n",
              "      <td>...</td>\n",
              "      <td>...</td>\n",
              "      <td>...</td>\n",
              "      <td>...</td>\n",
              "      <td>...</td>\n",
              "    </tr>\n",
              "    <tr>\n",
              "      <th>245</th>\n",
              "      <td>NaN</td>\n",
              "      <td>246.  The Battle of Algiers  (1966)</td>\n",
              "      <td>8.0</td>\n",
              "      <td>12345678910 NOT YET RELEASED  Seen</td>\n",
              "      <td>NaN</td>\n",
              "    </tr>\n",
              "    <tr>\n",
              "      <th>246</th>\n",
              "      <td>NaN</td>\n",
              "      <td>247.  The Circus  (1928)</td>\n",
              "      <td>8.0</td>\n",
              "      <td>12345678910 NOT YET RELEASED  Seen</td>\n",
              "      <td>NaN</td>\n",
              "    </tr>\n",
              "    <tr>\n",
              "      <th>247</th>\n",
              "      <td>NaN</td>\n",
              "      <td>248.  Tangerines  (2013)</td>\n",
              "      <td>8.0</td>\n",
              "      <td>12345678910 NOT YET RELEASED  Seen</td>\n",
              "      <td>NaN</td>\n",
              "    </tr>\n",
              "    <tr>\n",
              "      <th>248</th>\n",
              "      <td>NaN</td>\n",
              "      <td>249.  The Terminator  (1984)</td>\n",
              "      <td>8.0</td>\n",
              "      <td>12345678910 NOT YET RELEASED  Seen</td>\n",
              "      <td>NaN</td>\n",
              "    </tr>\n",
              "    <tr>\n",
              "      <th>249</th>\n",
              "      <td>NaN</td>\n",
              "      <td>250.  Winter Sleep  (2014)</td>\n",
              "      <td>8.0</td>\n",
              "      <td>12345678910 NOT YET RELEASED  Seen</td>\n",
              "      <td>NaN</td>\n",
              "    </tr>\n",
              "  </tbody>\n",
              "</table>\n",
              "<p>250 rows × 5 columns</p>\n",
              "</div>"
            ],
            "text/plain": [
              "     Unnamed: 0  ... Unnamed: 4\n",
              "0           NaN  ...        NaN\n",
              "1           NaN  ...        NaN\n",
              "2           NaN  ...        NaN\n",
              "3           NaN  ...        NaN\n",
              "4           NaN  ...        NaN\n",
              "..          ...  ...        ...\n",
              "245         NaN  ...        NaN\n",
              "246         NaN  ...        NaN\n",
              "247         NaN  ...        NaN\n",
              "248         NaN  ...        NaN\n",
              "249         NaN  ...        NaN\n",
              "\n",
              "[250 rows x 5 columns]"
            ]
          },
          "metadata": {
            "tags": []
          },
          "execution_count": 24
        }
      ]
    }
  ]
}