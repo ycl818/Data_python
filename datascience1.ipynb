{
  "nbformat": 4,
  "nbformat_minor": 0,
  "metadata": {
    "colab": {
      "name": "datascience1.ipynb",
      "provenance": [],
      "authorship_tag": "ABX9TyNZ7JB/gs6xq5yMesGU8Jwp",
      "include_colab_link": true
    },
    "kernelspec": {
      "name": "python3",
      "display_name": "Python 3"
    }
  },
  "cells": [
    {
      "cell_type": "markdown",
      "metadata": {
        "id": "view-in-github",
        "colab_type": "text"
      },
      "source": [
        "<a href=\"https://colab.research.google.com/github/ycl818/Data_python/blob/main/datascience1.ipynb\" target=\"_parent\"><img src=\"https://colab.research.google.com/assets/colab-badge.svg\" alt=\"Open In Colab\"/></a>"
      ]
    },
    {
      "cell_type": "code",
      "metadata": {
        "id": "gX-GvUh9V0lk"
      },
      "source": [
        "import numpy as np"
      ],
      "execution_count": null,
      "outputs": []
    },
    {
      "cell_type": "code",
      "metadata": {
        "colab": {
          "base_uri": "https://localhost:8080/"
        },
        "id": "6fCyYQH5XHY-",
        "outputId": "34371fba-1812-47b1-d652-0d52e03df6d2"
      },
      "source": [
        "print(np.__version__)\n",
        "print(np.__file__)"
      ],
      "execution_count": null,
      "outputs": [
        {
          "output_type": "stream",
          "text": [
            "1.18.5\n",
            "/usr/local/lib/python3.6/dist-packages/numpy/__init__.py\n"
          ],
          "name": "stdout"
        }
      ]
    },
    {
      "cell_type": "code",
      "metadata": {
        "colab": {
          "base_uri": "https://localhost:8080/"
        },
        "id": "Wys7SbeaaYsK",
        "outputId": "c4f5146e-d34e-455b-82a2-a226cd1cbc09"
      },
      "source": [
        "heterogeneous_list = [5566, 55.66, True, False, '5566']\n",
        "print(type(heterogeneous_list))\n",
        "for i in heterogeneous_list:\n",
        "    print(type(i))"
      ],
      "execution_count": null,
      "outputs": [
        {
          "output_type": "stream",
          "text": [
            "<class 'list'>\n",
            "<class 'int'>\n",
            "<class 'float'>\n",
            "<class 'bool'>\n",
            "<class 'bool'>\n",
            "<class 'str'>\n"
          ],
          "name": "stdout"
        }
      ]
    },
    {
      "cell_type": "code",
      "metadata": {
        "colab": {
          "base_uri": "https://localhost:8080/"
        },
        "id": "Sd3HNTRXafIe",
        "outputId": "f53463e5-f09a-4b20-aebb-81117a97cf13"
      },
      "source": [
        "homogeneous_arr = np.array(heterogeneous_list)\n",
        "print(type(homogeneous_arr))\n",
        "for i in homogeneous_arr:\n",
        "    print(type(i))"
      ],
      "execution_count": null,
      "outputs": [
        {
          "output_type": "stream",
          "text": [
            "<class 'numpy.ndarray'>\n",
            "<class 'numpy.str_'>\n",
            "<class 'numpy.str_'>\n",
            "<class 'numpy.str_'>\n",
            "<class 'numpy.str_'>\n",
            "<class 'numpy.str_'>\n"
          ],
          "name": "stdout"
        }
      ]
    },
    {
      "cell_type": "code",
      "metadata": {
        "colab": {
          "base_uri": "https://localhost:8080/"
        },
        "id": "Q2JFujX8avvT",
        "outputId": "e1289b62-4e05-4750-bb82-d76197b7d23a"
      },
      "source": [
        "m = 10000000\n",
        "large_array = np.random.randint(1, 100, size=m)\n",
        "large_list = list(large_array)\n",
        "print(type(large_list))\n",
        "print(type(large_array))"
      ],
      "execution_count": null,
      "outputs": [
        {
          "output_type": "stream",
          "text": [
            "<class 'list'>\n",
            "<class 'numpy.ndarray'>\n"
          ],
          "name": "stdout"
        }
      ]
    },
    {
      "cell_type": "code",
      "metadata": {
        "colab": {
          "base_uri": "https://localhost:8080/"
        },
        "id": "mo8s4WQ4balE",
        "outputId": "71f68fb6-dc78-4a4a-b085-d8ecda88ad68"
      },
      "source": [
        "import time\n",
        "\n",
        "# Computing reciprocals for large list\n",
        "start_time = time.time()\n",
        "reciprocals = [1 / i for i in large_list]\n",
        "end_time = time.time()\n",
        "computing_time = end_time - start_time\n",
        "print(\"Computing time for {:,} repicprocals: {:.2f} seconds.\".format(m, computing_time))"
      ],
      "execution_count": null,
      "outputs": [
        {
          "output_type": "stream",
          "text": [
            "Computing time for 10,000,000 repicprocals: 2.07 seconds.\n"
          ],
          "name": "stdout"
        }
      ]
    },
    {
      "cell_type": "code",
      "metadata": {
        "colab": {
          "base_uri": "https://localhost:8080/"
        },
        "id": "4NF5vgYFb3VF",
        "outputId": "ac7d1d38-f9ad-420a-d59f-35e795dbc494"
      },
      "source": [
        "import time\n",
        "\n",
        "# Computing reciprocals for large list\n",
        "start_time = time.time()\n",
        "reciprocals = 1 / large_array\n",
        "end_time = time.time()\n",
        "computing_time = end_time - start_time\n",
        "print(\"Computing time for {:,} repicprocals: {:.2f} seconds.\".format(m, computing_time))"
      ],
      "execution_count": null,
      "outputs": [
        {
          "output_type": "stream",
          "text": [
            "Computing time for 10,000,000 repicprocals: 0.58 seconds.\n"
          ],
          "name": "stdout"
        }
      ]
    },
    {
      "cell_type": "markdown",
      "metadata": {
        "id": "FAhBtXkzglQd"
      },
      "source": [
        "##List is not support division\n"
      ]
    },
    {
      "cell_type": "code",
      "metadata": {
        "colab": {
          "base_uri": "https://localhost:8080/",
          "height": 163
        },
        "id": "fQzEu1wRgiBQ",
        "outputId": "2e8a2cf6-d359-4006-d063-beeda1b97509"
      },
      "source": [
        "1 / large_list"
      ],
      "execution_count": null,
      "outputs": [
        {
          "output_type": "error",
          "ename": "TypeError",
          "evalue": "ignored",
          "traceback": [
            "\u001b[0;31m---------------------------------------------------------------------------\u001b[0m",
            "\u001b[0;31mTypeError\u001b[0m                                 Traceback (most recent call last)",
            "\u001b[0;32m<ipython-input-9-e1f6fbf961ed>\u001b[0m in \u001b[0;36m<module>\u001b[0;34m()\u001b[0m\n\u001b[0;32m----> 1\u001b[0;31m \u001b[0;36m1\u001b[0m \u001b[0;34m/\u001b[0m \u001b[0mlarge_list\u001b[0m\u001b[0;34m\u001b[0m\u001b[0;34m\u001b[0m\u001b[0m\n\u001b[0m",
            "\u001b[0;31mTypeError\u001b[0m: unsupported operand type(s) for /: 'int' and 'list'"
          ]
        }
      ]
    },
    {
      "cell_type": "markdown",
      "metadata": {
        "id": "PtL4RUrnifjE"
      },
      "source": [
        "## Create array from List"
      ]
    },
    {
      "cell_type": "code",
      "metadata": {
        "colab": {
          "base_uri": "https://localhost:8080/"
        },
        "id": "-wnPn1BshGbg",
        "outputId": "e7c230c3-3990-43c3-aec9-3529db4cc91c"
      },
      "source": [
        "type(heterogeneous_list)"
      ],
      "execution_count": null,
      "outputs": [
        {
          "output_type": "execute_result",
          "data": {
            "text/plain": [
              "list"
            ]
          },
          "metadata": {
            "tags": []
          },
          "execution_count": 12
        }
      ]
    },
    {
      "cell_type": "code",
      "metadata": {
        "colab": {
          "base_uri": "https://localhost:8080/"
        },
        "id": "_3hF2a14iDES",
        "outputId": "a7500e93-3657-4aa3-9f3f-38828a49dff6"
      },
      "source": [
        "type(np.array(heterogeneous_list))"
      ],
      "execution_count": null,
      "outputs": [
        {
          "output_type": "execute_result",
          "data": {
            "text/plain": [
              "numpy.ndarray"
            ]
          },
          "metadata": {
            "tags": []
          },
          "execution_count": 13
        }
      ]
    },
    {
      "cell_type": "markdown",
      "metadata": {
        "id": "ivr6EHGCkGXZ"
      },
      "source": [
        "##Create array by functions"
      ]
    },
    {
      "cell_type": "code",
      "metadata": {
        "colab": {
          "base_uri": "https://localhost:8080/"
        },
        "id": "DsjS-t4EiiNG",
        "outputId": "02591496-acf3-4bb1-cfa1-66338d201e49"
      },
      "source": [
        "print(np.zeros(5))\n",
        "print(np.ones(5))\n",
        "print(np.full(5, 6.0))\n",
        "\n",
        "print(np.ones(5)*6)"
      ],
      "execution_count": null,
      "outputs": [
        {
          "output_type": "stream",
          "text": [
            "[0. 0. 0. 0. 0.]\n",
            "[1. 1. 1. 1. 1.]\n",
            "[6. 6. 6. 6. 6.]\n",
            "[6. 6. 6. 6. 6.]\n"
          ],
          "name": "stdout"
        }
      ]
    },
    {
      "cell_type": "markdown",
      "metadata": {
        "id": "x2xeCU_fjmKZ"
      },
      "source": [
        "##Create array"
      ]
    },
    {
      "cell_type": "code",
      "metadata": {
        "colab": {
          "base_uri": "https://localhost:8080/"
        },
        "id": "GUsjmhxSjLDr",
        "outputId": "ff129284-6059-4175-f0ad-51e7031a634d"
      },
      "source": [
        "help(range)"
      ],
      "execution_count": null,
      "outputs": [
        {
          "output_type": "stream",
          "text": [
            "Help on class range in module builtins:\n",
            "\n",
            "class range(object)\n",
            " |  range(stop) -> range object\n",
            " |  range(start, stop[, step]) -> range object\n",
            " |  \n",
            " |  Return an object that produces a sequence of integers from start (inclusive)\n",
            " |  to stop (exclusive) by step.  range(i, j) produces i, i+1, i+2, ..., j-1.\n",
            " |  start defaults to 0, and stop is omitted!  range(4) produces 0, 1, 2, 3.\n",
            " |  These are exactly the valid indices for a list of 4 elements.\n",
            " |  When step is given, it specifies the increment (or decrement).\n",
            " |  \n",
            " |  Methods defined here:\n",
            " |  \n",
            " |  __bool__(self, /)\n",
            " |      self != 0\n",
            " |  \n",
            " |  __contains__(self, key, /)\n",
            " |      Return key in self.\n",
            " |  \n",
            " |  __eq__(self, value, /)\n",
            " |      Return self==value.\n",
            " |  \n",
            " |  __ge__(self, value, /)\n",
            " |      Return self>=value.\n",
            " |  \n",
            " |  __getattribute__(self, name, /)\n",
            " |      Return getattr(self, name).\n",
            " |  \n",
            " |  __getitem__(self, key, /)\n",
            " |      Return self[key].\n",
            " |  \n",
            " |  __gt__(self, value, /)\n",
            " |      Return self>value.\n",
            " |  \n",
            " |  __hash__(self, /)\n",
            " |      Return hash(self).\n",
            " |  \n",
            " |  __iter__(self, /)\n",
            " |      Implement iter(self).\n",
            " |  \n",
            " |  __le__(self, value, /)\n",
            " |      Return self<=value.\n",
            " |  \n",
            " |  __len__(self, /)\n",
            " |      Return len(self).\n",
            " |  \n",
            " |  __lt__(self, value, /)\n",
            " |      Return self<value.\n",
            " |  \n",
            " |  __ne__(self, value, /)\n",
            " |      Return self!=value.\n",
            " |  \n",
            " |  __new__(*args, **kwargs) from builtins.type\n",
            " |      Create and return a new object.  See help(type) for accurate signature.\n",
            " |  \n",
            " |  __reduce__(...)\n",
            " |      helper for pickle\n",
            " |  \n",
            " |  __repr__(self, /)\n",
            " |      Return repr(self).\n",
            " |  \n",
            " |  __reversed__(...)\n",
            " |      Return a reverse iterator.\n",
            " |  \n",
            " |  count(...)\n",
            " |      rangeobject.count(value) -> integer -- return number of occurrences of value\n",
            " |  \n",
            " |  index(...)\n",
            " |      rangeobject.index(value, [start, [stop]]) -> integer -- return index of value.\n",
            " |      Raise ValueError if the value is not present.\n",
            " |  \n",
            " |  ----------------------------------------------------------------------\n",
            " |  Data descriptors defined here:\n",
            " |  \n",
            " |  start\n",
            " |  \n",
            " |  step\n",
            " |  \n",
            " |  stop\n",
            "\n"
          ],
          "name": "stdout"
        }
      ]
    },
    {
      "cell_type": "code",
      "metadata": {
        "colab": {
          "base_uri": "https://localhost:8080/"
        },
        "id": "H2bpUIA2jTmc",
        "outputId": "9c29e35f-835c-424c-8d27-730c24770fd5"
      },
      "source": [
        "help(np.arange)"
      ],
      "execution_count": null,
      "outputs": [
        {
          "output_type": "stream",
          "text": [
            "Help on built-in function arange in module numpy:\n",
            "\n",
            "arange(...)\n",
            "    arange([start,] stop[, step,], dtype=None)\n",
            "    \n",
            "    Return evenly spaced values within a given interval.\n",
            "    \n",
            "    Values are generated within the half-open interval ``[start, stop)``\n",
            "    (in other words, the interval including `start` but excluding `stop`).\n",
            "    For integer arguments the function is equivalent to the Python built-in\n",
            "    `range` function, but returns an ndarray rather than a list.\n",
            "    \n",
            "    When using a non-integer step, such as 0.1, the results will often not\n",
            "    be consistent.  It is better to use `numpy.linspace` for these cases.\n",
            "    \n",
            "    Parameters\n",
            "    ----------\n",
            "    start : number, optional\n",
            "        Start of interval.  The interval includes this value.  The default\n",
            "        start value is 0.\n",
            "    stop : number\n",
            "        End of interval.  The interval does not include this value, except\n",
            "        in some cases where `step` is not an integer and floating point\n",
            "        round-off affects the length of `out`.\n",
            "    step : number, optional\n",
            "        Spacing between values.  For any output `out`, this is the distance\n",
            "        between two adjacent values, ``out[i+1] - out[i]``.  The default\n",
            "        step size is 1.  If `step` is specified as a position argument,\n",
            "        `start` must also be given.\n",
            "    dtype : dtype\n",
            "        The type of the output array.  If `dtype` is not given, infer the data\n",
            "        type from the other input arguments.\n",
            "    \n",
            "    Returns\n",
            "    -------\n",
            "    arange : ndarray\n",
            "        Array of evenly spaced values.\n",
            "    \n",
            "        For floating point arguments, the length of the result is\n",
            "        ``ceil((stop - start)/step)``.  Because of floating point overflow,\n",
            "        this rule may result in the last element of `out` being greater\n",
            "        than `stop`.\n",
            "    \n",
            "    See Also\n",
            "    --------\n",
            "    numpy.linspace : Evenly spaced numbers with careful handling of endpoints.\n",
            "    numpy.ogrid: Arrays of evenly spaced numbers in N-dimensions.\n",
            "    numpy.mgrid: Grid-shaped arrays of evenly spaced numbers in N-dimensions.\n",
            "    \n",
            "    Examples\n",
            "    --------\n",
            "    >>> np.arange(3)\n",
            "    array([0, 1, 2])\n",
            "    >>> np.arange(3.0)\n",
            "    array([ 0.,  1.,  2.])\n",
            "    >>> np.arange(3,7)\n",
            "    array([3, 4, 5, 6])\n",
            "    >>> np.arange(3,7,2)\n",
            "    array([3, 5])\n",
            "\n"
          ],
          "name": "stdout"
        }
      ]
    },
    {
      "cell_type": "code",
      "metadata": {
        "colab": {
          "base_uri": "https://localhost:8080/"
        },
        "id": "cb0HcuP2jbYi",
        "outputId": "bb090043-cc66-407c-99a4-dd432d4f43b9"
      },
      "source": [
        "np.arange(1,10)"
      ],
      "execution_count": null,
      "outputs": [
        {
          "output_type": "execute_result",
          "data": {
            "text/plain": [
              "array([1, 2, 3, 4, 5, 6, 7, 8, 9])"
            ]
          },
          "metadata": {
            "tags": []
          },
          "execution_count": 22
        }
      ]
    },
    {
      "cell_type": "code",
      "metadata": {
        "colab": {
          "base_uri": "https://localhost:8080/"
        },
        "id": "PEmorXqyjfSj",
        "outputId": "5a3a7a71-d1c1-4392-e319-edf13eef7099"
      },
      "source": [
        "np.arange(1,10,2)"
      ],
      "execution_count": null,
      "outputs": [
        {
          "output_type": "execute_result",
          "data": {
            "text/plain": [
              "array([1, 3, 5, 7, 9])"
            ]
          },
          "metadata": {
            "tags": []
          },
          "execution_count": 23
        }
      ]
    },
    {
      "cell_type": "code",
      "metadata": {
        "colab": {
          "base_uri": "https://localhost:8080/"
        },
        "id": "hkROkpkdkMtX",
        "outputId": "d45d7b3f-1127-46c4-9e7d-51a921e2a6b7"
      },
      "source": [
        "np.linspace(1,100,100)"
      ],
      "execution_count": null,
      "outputs": [
        {
          "output_type": "execute_result",
          "data": {
            "text/plain": [
              "array([  1.,   2.,   3.,   4.,   5.,   6.,   7.,   8.,   9.,  10.,  11.,\n",
              "        12.,  13.,  14.,  15.,  16.,  17.,  18.,  19.,  20.,  21.,  22.,\n",
              "        23.,  24.,  25.,  26.,  27.,  28.,  29.,  30.,  31.,  32.,  33.,\n",
              "        34.,  35.,  36.,  37.,  38.,  39.,  40.,  41.,  42.,  43.,  44.,\n",
              "        45.,  46.,  47.,  48.,  49.,  50.,  51.,  52.,  53.,  54.,  55.,\n",
              "        56.,  57.,  58.,  59.,  60.,  61.,  62.,  63.,  64.,  65.,  66.,\n",
              "        67.,  68.,  69.,  70.,  71.,  72.,  73.,  74.,  75.,  76.,  77.,\n",
              "        78.,  79.,  80.,  81.,  82.,  83.,  84.,  85.,  86.,  87.,  88.,\n",
              "        89.,  90.,  91.,  92.,  93.,  94.,  95.,  96.,  97.,  98.,  99.,\n",
              "       100.])"
            ]
          },
          "metadata": {
            "tags": []
          },
          "execution_count": 24
        }
      ]
    },
    {
      "cell_type": "code",
      "metadata": {
        "colab": {
          "base_uri": "https://localhost:8080/"
        },
        "id": "mR9wpKsfkS29",
        "outputId": "5837b388-5104-404f-f95d-f5281923aaef"
      },
      "source": [
        "np.linspace(1,100)\n",
        "np.diff(np.linspace(1,100))  #check if it is divided unionly"
      ],
      "execution_count": null,
      "outputs": [
        {
          "output_type": "execute_result",
          "data": {
            "text/plain": [
              "array([2.02040816, 2.02040816, 2.02040816, 2.02040816, 2.02040816,\n",
              "       2.02040816, 2.02040816, 2.02040816, 2.02040816, 2.02040816,\n",
              "       2.02040816, 2.02040816, 2.02040816, 2.02040816, 2.02040816,\n",
              "       2.02040816, 2.02040816, 2.02040816, 2.02040816, 2.02040816,\n",
              "       2.02040816, 2.02040816, 2.02040816, 2.02040816, 2.02040816,\n",
              "       2.02040816, 2.02040816, 2.02040816, 2.02040816, 2.02040816,\n",
              "       2.02040816, 2.02040816, 2.02040816, 2.02040816, 2.02040816,\n",
              "       2.02040816, 2.02040816, 2.02040816, 2.02040816, 2.02040816,\n",
              "       2.02040816, 2.02040816, 2.02040816, 2.02040816, 2.02040816,\n",
              "       2.02040816, 2.02040816, 2.02040816, 2.02040816])"
            ]
          },
          "metadata": {
            "tags": []
          },
          "execution_count": 26
        }
      ]
    },
    {
      "cell_type": "markdown",
      "metadata": {
        "id": "Pa_00d-1lguQ"
      },
      "source": [
        "##Creating arrays from scratch: randomness"
      ]
    },
    {
      "cell_type": "code",
      "metadata": {
        "colab": {
          "base_uri": "https://localhost:8080/"
        },
        "id": "qLt00ED4lRIo",
        "outputId": "5b55eafd-8638-494f-fdca-191299c013a8"
      },
      "source": [
        "uniform_arr = np.random.random(10000)\n",
        "normal_arr = np.random.normal(0, 1, 10000)\n",
        "randint_arr = np.random.randint(1, 7, size=10000)\n",
        "print(uniform_arr)\n",
        "print(normal_arr)\n",
        "print(randint_arr)"
      ],
      "execution_count": null,
      "outputs": [
        {
          "output_type": "stream",
          "text": [
            "[0.52914172 0.22331408 0.2718486  ... 0.68245681 0.04860798 0.98213396]\n",
            "[-0.66506011  2.32389942  1.35908644 ...  0.09262684 -1.05412027\n",
            " -0.52556777]\n",
            "[2 1 5 ... 6 6 6]\n"
          ],
          "name": "stdout"
        }
      ]
    },
    {
      "cell_type": "code",
      "metadata": {
        "colab": {
          "base_uri": "https://localhost:8080/",
          "height": 265
        },
        "id": "qO551qgwlo75",
        "outputId": "7e330689-2fae-4e2b-b39d-e9166a6d4a86"
      },
      "source": [
        "import matplotlib.pyplot as plt\n",
        "\n",
        "fig = plt.figure()\n",
        "ax = plt.axes()\n",
        "ax.hist(uniform_arr, bins=30)\n",
        "plt.show()"
      ],
      "execution_count": null,
      "outputs": [
        {
          "output_type": "display_data",
          "data": {
            "image/png": "[encoded data removed]",
            "text/plain": [
              "<Figure size 432x288 with 1 Axes>"
            ]
          },
          "metadata": {
            "tags": [],
            "needs_background": "light"
          }
        }
      ]
    },
    {
      "cell_type": "code",
      "metadata": {
        "colab": {
          "base_uri": "https://localhost:8080/",
          "height": 265
        },
        "id": "2TP1qQmEmH_g",
        "outputId": "6ba017c8-f4cd-48f1-eefe-216127887380"
      },
      "source": [
        "fig = plt.figure()\n",
        "ax = plt.axes()\n",
        "ax.hist(normal_arr, bins=30)\n",
        "plt.show()"
      ],
      "execution_count": null,
      "outputs": [
        {
          "output_type": "display_data",
          "data": {
            "image/png": "[encoded data removed]",
            "text/plain": [
              "<Figure size 432x288 with 1 Axes>"
            ]
          },
          "metadata": {
            "tags": [],
            "needs_background": "light"
          }
        }
      ]
    },
    {
      "cell_type": "code",
      "metadata": {
        "colab": {
          "base_uri": "https://localhost:8080/"
        },
        "id": "bEjhbnLVnaI5",
        "outputId": "a16bdbed-5abf-41bb-f950-ab56d15bb682"
      },
      "source": [
        "arr = np.array([5, 5, 6, 6])  # list to array     np.array(5,5,6,6) (x)\n",
        "print(arr.ndim)\n",
        "print(arr.shape)\n",
        "print(arr.size)\n",
        "print(arr.dtype)"
      ],
      "execution_count": null,
      "outputs": [
        {
          "output_type": "stream",
          "text": [
            "1\n",
            "(4,)\n",
            "4\n",
            "int64\n"
          ],
          "name": "stdout"
        }
      ]
    },
    {
      "cell_type": "markdown",
      "metadata": {
        "id": "Pxx3XYzmo8BF"
      },
      "source": [
        "##Different nicknames vs. different number of dimensions\n",
        "####Scalar: 0-dimension\n",
        "####Vector: 1-dimension\n",
        "####Matrix: 2-dimension\n",
        "####Tensor: 3-dimension or more"
      ]
    },
    {
      "cell_type": "code",
      "metadata": {
        "colab": {
          "base_uri": "https://localhost:8080/"
        },
        "id": "Df1wYX-QpHQ3",
        "outputId": "4ba6fb98-bcb0-4516-9a6b-46497627427c"
      },
      "source": [
        "arr= np.array(1234)  # 0-dimension called scalar\n",
        "print(arr.ndim)\n",
        "print(arr.shape)\n",
        "print(type(arr.shape))\n",
        "print(arr.size)\n"
      ],
      "execution_count": null,
      "outputs": [
        {
          "output_type": "stream",
          "text": [
            "0\n",
            "()\n",
            "<class 'tuple'>\n",
            "1\n"
          ],
          "name": "stdout"
        }
      ]
    },
    {
      "cell_type": "code",
      "metadata": {
        "colab": {
          "base_uri": "https://localhost:8080/"
        },
        "id": "_OlIXQ_QqYmF",
        "outputId": "4dd7bf67-ef05-4039-b222-54b332eb7690"
      },
      "source": [
        "arr= np.array([1234])  # 1-dimension called vector\n",
        "print(arr.ndim)\n",
        "print(arr.shape)\n",
        "print(type(arr.shape))\n",
        "print(arr.size)\n",
        "print(arr)"
      ],
      "execution_count": null,
      "outputs": [
        {
          "output_type": "stream",
          "text": [
            "1\n",
            "(1,)\n",
            "<class 'tuple'>\n",
            "1\n",
            "[1234]\n"
          ],
          "name": "stdout"
        }
      ]
    },
    {
      "cell_type": "code",
      "metadata": {
        "colab": {
          "base_uri": "https://localhost:8080/"
        },
        "id": "t6fU_1aorCOe",
        "outputId": "20ec8230-6d1f-42b7-a016-7cb62f4ceaa3"
      },
      "source": [
        "matrix = np.array([5, 5, 6, 6]).reshape(1, 4) #2-dimension called matrix\n",
        "print(matrix)\n",
        "print(matrix.ndim)\n",
        "print(matrix.shape)"
      ],
      "execution_count": null,
      "outputs": [
        {
          "output_type": "stream",
          "text": [
            "[[5 5 6 6]]\n",
            "2\n",
            "(1, 4)\n"
          ],
          "name": "stdout"
        }
      ]
    },
    {
      "cell_type": "markdown",
      "metadata": {
        "id": "oK3h3B59r-gn"
      },
      "source": [
        "##Careful"
      ]
    },
    {
      "cell_type": "code",
      "metadata": {
        "colab": {
          "base_uri": "https://localhost:8080/"
        },
        "id": "LzS36lDxrozP",
        "outputId": "159de681-78c5-4333-d92a-6c3b8ca4ed98"
      },
      "source": [
        "print([5,5,6,6]*3)\n",
        "#?\n",
        "#[15,15,18,18] (x)\n",
        "print(np.array([5,5,6,6]*3))"
      ],
      "execution_count": null,
      "outputs": [
        {
          "output_type": "stream",
          "text": [
            "[5, 5, 6, 6, 5, 5, 6, 6, 5, 5, 6, 6]\n",
            "[5 5 6 6 5 5 6 6 5 5 6 6]\n"
          ],
          "name": "stdout"
        }
      ]
    },
    {
      "cell_type": "code",
      "metadata": {
        "colab": {
          "base_uri": "https://localhost:8080/"
        },
        "id": "jHJrytH-ruMN",
        "outputId": "9410ec7b-ebfd-4f1e-f4ac-308605f2e0d5"
      },
      "source": [
        "tensor = np.array([5, 5, 6, 6]*3).reshape(3, 2, 2)\n",
        "print(tensor)\n",
        "print(tensor.ndim)\n",
        "print(tensor.shape)"
      ],
      "execution_count": null,
      "outputs": [
        {
          "output_type": "stream",
          "text": [
            "[[[5 5]\n",
            "  [6 6]]\n",
            "\n",
            " [[5 5]\n",
            "  [6 6]]\n",
            "\n",
            " [[5 5]\n",
            "  [6 6]]]\n",
            "3\n",
            "(3, 2, 2)\n"
          ],
          "name": "stdout"
        }
      ]
    },
    {
      "cell_type": "markdown",
      "metadata": {
        "id": "AtVEZLnWu9ih"
      },
      "source": [
        "##Indexing/Slicing arrays\n",
        "\n",
        "###index 一個個\n",
        "###slice 一個片段"
      ]
    },
    {
      "cell_type": "code",
      "metadata": {
        "colab": {
          "base_uri": "https://localhost:8080/"
        },
        "id": "XDqsF23rvRLh",
        "outputId": "a5091280-09c6-4d6e-f86b-a171cbc33004"
      },
      "source": [
        "arr = np.array([55, 66, 56, 5566])\n",
        "print(\"From start to stop:\")\n",
        "print(arr[0])\n",
        "print(arr[1])\n",
        "print(arr[2])\n",
        "print(arr[arr.size - 1])\n",
        "print(\"From stop to start:\")\n",
        "print(arr[-1])\n",
        "print(arr[-2])\n",
        "print(arr[-3])\n",
        "print(arr[-arr.size])"
      ],
      "execution_count": null,
      "outputs": [
        {
          "output_type": "stream",
          "text": [
            "From start to stop:\n",
            "55\n",
            "66\n",
            "56\n",
            "5566\n",
            "From stop to start:\n",
            "5566\n",
            "56\n",
            "66\n",
            "55\n"
          ],
          "name": "stdout"
        }
      ]
    },
    {
      "cell_type": "code",
      "metadata": {
        "colab": {
          "base_uri": "https://localhost:8080/"
        },
        "id": "lqi7aqmSvwZt",
        "outputId": "ec234e63-3373-48e9-ed85-3855213cc524"
      },
      "source": [
        "nested_list = [\n",
        "    [1, 2, 3, 4],\n",
        "    [5, 6, 7, 8],\n",
        "    [9, 10, 11, 12]\n",
        "]\n",
        "print(nested_list)\n",
        "print(nested_list[1])\n",
        "print(nested_list[1][1])\n",
        "print(nested_list[2][1])  #if i want to pick 3,7,11  there is no syntax for list"
      ],
      "execution_count": null,
      "outputs": [
        {
          "output_type": "stream",
          "text": [
            "[[1, 2, 3, 4], [5, 6, 7, 8], [9, 10, 11, 12]]\n",
            "[5, 6, 7, 8]\n",
            "6\n",
            "10\n"
          ],
          "name": "stdout"
        }
      ]
    },
    {
      "cell_type": "code",
      "metadata": {
        "colab": {
          "base_uri": "https://localhost:8080/"
        },
        "id": "mr96oSiOwm9p",
        "outputId": "4214942f-dc28-4585-b911-c54ad447d34b"
      },
      "source": [
        "matrix = np.array(nested_list)\n",
        "print(matrix)\n",
        "print(matrix[1][1])\n",
        "print(matrix[1, 1])\n",
        "print(matrix[2, 1])\n",
        "print(matrix[:,2])  # pick a column.\n",
        "print(\"\")\n",
        "print(matrix[:, 2, np.newaxis])"
      ],
      "execution_count": 62,
      "outputs": [
        {
          "output_type": "stream",
          "text": [
            "[[ 1  2  3  4]\n",
            " [ 5  6  7  8]\n",
            " [ 9 10 11 12]]\n",
            "6\n",
            "6\n",
            "10\n",
            "[ 3  7 11]\n",
            "\n",
            "[[ 3]\n",
            " [ 7]\n",
            " [11]]\n"
          ],
          "name": "stdout"
        }
      ]
    },
    {
      "cell_type": "markdown",
      "metadata": {
        "id": "Kc5BMMbTyMQW"
      },
      "source": [
        "##list syntax "
      ]
    },
    {
      "cell_type": "code",
      "metadata": {
        "colab": {
          "base_uri": "https://localhost:8080/"
        },
        "id": "_-Tm_PAgyJWA",
        "outputId": "6a88063b-0c10-44fb-e338-82566becdbf9"
      },
      "source": [
        "alst = list(range(10, 20))\n",
        "print(alst[::])\n",
        "print(alst[::2])  # step=2\n",
        "print(alst[:5])   # stop=5, exclusive\n",
        "print(alst[5:])   # start=5, inclusive\n",
        "print(alst[::-1]) # step=-1, reverse"
      ],
      "execution_count": 63,
      "outputs": [
        {
          "output_type": "stream",
          "text": [
            "[10, 11, 12, 13, 14, 15, 16, 17, 18, 19]\n",
            "[10, 12, 14, 16, 18]\n",
            "[10, 11, 12, 13, 14]\n",
            "[15, 16, 17, 18, 19]\n",
            "[19, 18, 17, 16, 15, 14, 13, 12, 11, 10]\n"
          ],
          "name": "stdout"
        }
      ]
    },
    {
      "cell_type": "markdown",
      "metadata": {
        "id": "gY2YloL5yavI"
      },
      "source": [
        "#Slicing an array is the same as slicing a list\n",
        "##arr[start:stop:step]"
      ]
    },
    {
      "cell_type": "code",
      "metadata": {
        "colab": {
          "base_uri": "https://localhost:8080/"
        },
        "id": "8MOpBme0yaFD",
        "outputId": "54845047-5eff-45bc-c59c-1399aa267d7c"
      },
      "source": [
        "arr = np.arange(10, 20)\n",
        "print(arr[::])   # default\n",
        "print(arr[::2])  # step=2\n",
        "print(arr[:5])   # stop=5, exclusive\n",
        "print(arr[5:])   # start=5, inclusive\n",
        "print(arr[::-1]) # step=-1, reverse"
      ],
      "execution_count": 64,
      "outputs": [
        {
          "output_type": "stream",
          "text": [
            "[10 11 12 13 14 15 16 17 18 19]\n",
            "[10 12 14 16 18]\n",
            "[10 11 12 13 14]\n",
            "[15 16 17 18 19]\n",
            "[19 18 17 16 15 14 13 12 11 10]\n"
          ],
          "name": "stdout"
        }
      ]
    },
    {
      "cell_type": "code",
      "metadata": {
        "colab": {
          "base_uri": "https://localhost:8080/"
        },
        "id": "XVctOkT9y3v0",
        "outputId": "99aa2fcc-0d40-4a38-a0d4-02221f9cd6e3"
      },
      "source": [
        "np.random.seed(0)   #to fixed random number\n",
        "arr = np.random.randint(1, 100, size=(10,))\n",
        "print(arr)\n",
        "print(arr[[0,2,8]])"
      ],
      "execution_count": 68,
      "outputs": [
        {
          "output_type": "stream",
          "text": [
            "[45 48 65 68 68 10 84 22 37 88]\n",
            "[45 65 37]\n"
          ],
          "name": "stdout"
        }
      ]
    },
    {
      "cell_type": "code",
      "metadata": {
        "colab": {
          "base_uri": "https://localhost:8080/"
        },
        "id": "QX8wVQVIzwxK",
        "outputId": "ff1b6c5c-1853-4171-af12-d76abec767d5"
      },
      "source": [
        "arr % 2 == 1"
      ],
      "execution_count": 70,
      "outputs": [
        {
          "output_type": "execute_result",
          "data": {
            "text/plain": [
              "array([ True, False,  True, False, False, False, False, False,  True,\n",
              "       False])"
            ]
          },
          "metadata": {
            "tags": []
          },
          "execution_count": 70
        }
      ]
    },
    {
      "cell_type": "code",
      "metadata": {
        "colab": {
          "base_uri": "https://localhost:8080/"
        },
        "id": "Q3q6ynr-0Mgh",
        "outputId": "2ae68a4a-f7eb-4efb-bc3b-c25ddcee67e1"
      },
      "source": [
        "arr[arr % 2 == 1]"
      ],
      "execution_count": 71,
      "outputs": [
        {
          "output_type": "execute_result",
          "data": {
            "text/plain": [
              "array([45, 65, 37])"
            ]
          },
          "metadata": {
            "tags": []
          },
          "execution_count": 71
        }
      ]
    },
    {
      "cell_type": "code",
      "metadata": {
        "colab": {
          "base_uri": "https://localhost:8080/"
        },
        "id": "7gOrlXjA0tZp",
        "outputId": "e91ca6d8-6629-4171-f8d8-b001c2108736"
      },
      "source": [
        "alst = list(arr)\n",
        "print(alst)\n",
        "for e in alst:\n",
        "    if e % 2 == 1:\n",
        "        print(e)"
      ],
      "execution_count": 73,
      "outputs": [
        {
          "output_type": "stream",
          "text": [
            "[45, 48, 65, 68, 68, 10, 84, 22, 37, 88]\n",
            "45\n",
            "65\n",
            "37\n"
          ],
          "name": "stdout"
        }
      ]
    },
    {
      "cell_type": "code",
      "metadata": {
        "colab": {
          "base_uri": "https://localhost:8080/"
        },
        "id": "BPilNyrt0VGj",
        "outputId": "b829c69c-cb64-4a67-830a-838337b04564"
      },
      "source": [
        "list(filter(lambda x: x % 2, alst))"
      ],
      "execution_count": 74,
      "outputs": [
        {
          "output_type": "execute_result",
          "data": {
            "text/plain": [
              "[45, 65, 37]"
            ]
          },
          "metadata": {
            "tags": []
          },
          "execution_count": 74
        }
      ]
    }
  ]
}